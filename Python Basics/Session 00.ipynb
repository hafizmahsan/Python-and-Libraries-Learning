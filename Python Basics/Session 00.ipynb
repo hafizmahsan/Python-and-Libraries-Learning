{
 "cells": [
  {
   "cell_type": "markdown",
   "id": "earlier-committee",
   "metadata": {},
   "source": [
    "# Python Basics"
   ]
  },
  {
   "cell_type": "markdown",
   "id": "hydraulic-hebrew",
   "metadata": {},
   "source": [
    "## Output"
   ]
  },
  {
   "cell_type": "code",
   "execution_count": null,
   "id": "institutional-clerk",
   "metadata": {},
   "outputs": [],
   "source": [
    "print('Hello World')\n",
    "print('Hi! Welcome to Python')"
   ]
  },
  {
   "cell_type": "markdown",
   "id": "solid-paste",
   "metadata": {},
   "source": [
    "## Input "
   ]
  },
  {
   "cell_type": "code",
   "execution_count": null,
   "id": "adult-algeria",
   "metadata": {},
   "outputs": [],
   "source": [
    "input('Enter Something : ')"
   ]
  },
  {
   "cell_type": "code",
   "execution_count": null,
   "id": "worldwide-dress",
   "metadata": {},
   "outputs": [],
   "source": [
    "name = input('Enter your Name : ')\n",
    "print(name, ' Welcome to Python')"
   ]
  },
  {
   "cell_type": "markdown",
   "id": "medium-afternoon",
   "metadata": {},
   "source": [
    "## Operations "
   ]
  },
  {
   "cell_type": "code",
   "execution_count": null,
   "id": "cutting-emperor",
   "metadata": {},
   "outputs": [],
   "source": [
    "x = 10\n",
    "y = 15\n",
    "\n",
    "print(x + y) # Add\n",
    "print(x - y) # Subtract\n",
    "print(x * y) # Multiply\n",
    "print(x / y) # Division\n",
    "print(x // y) # Integer Division\n",
    "print(x ** y) # Raise to Power\n",
    "print(x % y) # Remainder"
   ]
  },
  {
   "cell_type": "markdown",
   "id": "informal-greensboro",
   "metadata": {},
   "source": [
    "## String Functions "
   ]
  },
  {
   "cell_type": "code",
   "execution_count": null,
   "id": "extra-nothing",
   "metadata": {},
   "outputs": [],
   "source": [
    "len(name) # finding length of string"
   ]
  },
  {
   "cell_type": "code",
   "execution_count": null,
   "id": "jewish-constitution",
   "metadata": {},
   "outputs": [],
   "source": [
    "print(name.upper()) # converting string to Upper case"
   ]
  },
  {
   "cell_type": "code",
   "execution_count": null,
   "id": "built-toyota",
   "metadata": {},
   "outputs": [],
   "source": [
    "something = input('Enter Something : ')\n",
    "print(something.strip()) # Deleting extra spaces from starting of variables"
   ]
  },
  {
   "cell_type": "code",
   "execution_count": null,
   "id": "alone-barrier",
   "metadata": {},
   "outputs": [],
   "source": [
    "name = 'Hafiz Mohammad Ahsan'\n",
    "\n",
    "print(name*3) # printing string number of times"
   ]
  },
  {
   "cell_type": "code",
   "execution_count": null,
   "id": "polyphonic-booth",
   "metadata": {},
   "outputs": [],
   "source": [
    "name1 = 'Hafiz '\n",
    "name2 = 'Mohammad '\n",
    "name3 = 'Ahsan'\n",
    "print(name1 + name2 + name3) # Concatenation of Strings"
   ]
  },
  {
   "cell_type": "code",
   "execution_count": null,
   "id": "induced-courage",
   "metadata": {},
   "outputs": [],
   "source": [
    "var1 = input('Enter first number : ')\n",
    "var2 = input('Enter second number : ')\n",
    "\n",
    "print(type(var1)) # printing type of variable var1\n",
    "print(type(var2)) # printing type of variable var2\n",
    "print(var1 + var2) # Concatenation of Strings"
   ]
  },
  {
   "cell_type": "markdown",
   "id": "competitive-chile",
   "metadata": {},
   "source": [
    "## Changing Data Types"
   ]
  },
  {
   "cell_type": "code",
   "execution_count": null,
   "id": "located-reset",
   "metadata": {},
   "outputs": [],
   "source": [
    "var1 = input('Enter first number : ')\n",
    "var2 = input('Enter second number : ')\n",
    "\n",
    "print(type(var1))\n",
    "print(type(var2))\n",
    "print(int(var1) + int(var2)) # Changing Data Type from String to Integer\n",
    "print(type(var1))\n",
    "print(type(var2))"
   ]
  },
  {
   "cell_type": "code",
   "execution_count": null,
   "id": "trained-bonus",
   "metadata": {},
   "outputs": [],
   "source": [
    "# Changing Data Type from String to Integer\n",
    "\n",
    "var1 = input('Enter first number : ')\n",
    "var2 = input('Enter second number : ')\n",
    "\n",
    "print(type(var1))\n",
    "print(type(var2))\n",
    "\n",
    "var1 = int(var1)\n",
    "var2 = int(var2)\n",
    "\n",
    "print(var1 + var2)\n",
    "\n",
    "print(type(var1))\n",
    "print(type(var2))"
   ]
  },
  {
   "cell_type": "code",
   "execution_count": null,
   "id": "local-washer",
   "metadata": {},
   "outputs": [],
   "source": [
    "x = 1\n",
    "print(x)\n",
    "x = 2\n",
    "print(x)"
   ]
  },
  {
   "cell_type": "code",
   "execution_count": null,
   "id": "parliamentary-college",
   "metadata": {},
   "outputs": [],
   "source": [
    "# float Data Type\n",
    "\n",
    "fl = 1.5\n",
    "print(fl)"
   ]
  },
  {
   "cell_type": "code",
   "execution_count": null,
   "id": "institutional-sunday",
   "metadata": {},
   "outputs": [],
   "source": [
    "# Boolean Data Type\n",
    "\n",
    "loop = True\n",
    "print(loop)"
   ]
  },
  {
   "cell_type": "markdown",
   "id": "sunrise-miami",
   "metadata": {},
   "source": [
    "## Loops "
   ]
  },
  {
   "cell_type": "code",
   "execution_count": null,
   "id": "copyrighted-shannon",
   "metadata": {},
   "outputs": [],
   "source": [
    "# For Loop\n",
    "\n",
    "for number in range(0, 10) :\n",
    "    print(number)"
   ]
  },
  {
   "cell_type": "code",
   "execution_count": null,
   "id": "saved-equipment",
   "metadata": {},
   "outputs": [],
   "source": [
    "# For Loop with Steps\n",
    "\n",
    "for number in range(0, 10, 3) :\n",
    "    print(number)"
   ]
  },
  {
   "cell_type": "code",
   "execution_count": null,
   "id": "extreme-continent",
   "metadata": {},
   "outputs": [],
   "source": [
    "# While Loop\n",
    "\n",
    "loop = True\n",
    "while loop:\n",
    "    something = input('Enter Something : ')\n",
    "#     print('Python')\n",
    "    if something == 'stop':\n",
    "        break\n",
    "    else:\n",
    "        print('Python')"
   ]
  },
  {
   "cell_type": "markdown",
   "id": "portuguese-gentleman",
   "metadata": {},
   "source": [
    "## Conditionals "
   ]
  },
  {
   "cell_type": "code",
   "execution_count": null,
   "id": "collect-miracle",
   "metadata": {},
   "outputs": [],
   "source": [
    "# Conditionals = If, Elif, and Else\n",
    "\n",
    "height = input(\"Enter your Height : \")\n",
    "\n",
    "if height == '1' :\n",
    "    print('You are 1 metre tall')\n",
    "elif height == '2' :\n",
    "    print('You are 2 metre tall')\n",
    "elif height == '3':\n",
    "    print('You are 3 metre tall')\n",
    "else :\n",
    "    print('You are tall')"
   ]
  },
  {
   "cell_type": "code",
   "execution_count": null,
   "id": "acute-pizza",
   "metadata": {},
   "outputs": [],
   "source": [
    "# Nested Conditions\n",
    "\n",
    "x = 4\n",
    "y = 4\n",
    "\n",
    "if x == 2:\n",
    "    if y == 3:\n",
    "        print('x = 2 and y = 3')\n",
    "    else :\n",
    "        print('x = 2 and y != 3')\n",
    "else:\n",
    "    print('x != 2 and y != 3')"
   ]
  },
  {
   "cell_type": "code",
   "execution_count": null,
   "id": "solid-ceremony",
   "metadata": {},
   "outputs": [],
   "source": [
    "# And, Or, Not\n",
    "\n",
    "x = 3\n",
    "y = 5\n",
    "z = 3\n",
    "\n",
    "if x == y and y == z :\n",
    "    print('True')\n",
    "    \n",
    "if x == y or y == z :\n",
    "    print('Also True')\n",
    "    \n",
    "if not(x > y or y == z) :\n",
    "    print('False')"
   ]
  },
  {
   "cell_type": "markdown",
   "id": "short-moisture",
   "metadata": {},
   "source": [
    "## Functions "
   ]
  },
  {
   "cell_type": "code",
   "execution_count": null,
   "id": "animated-hazard",
   "metadata": {},
   "outputs": [],
   "source": [
    "x = 2\n",
    "y = 3\n",
    "\n",
    "def add(x, y) :\n",
    "    return x + y\n",
    "\n",
    "\n",
    "result = add(x, y)\n",
    "print(result)"
   ]
  },
  {
   "cell_type": "code",
   "execution_count": null,
   "id": "speaking-jerusalem",
   "metadata": {},
   "outputs": [],
   "source": [
    "def printNum(x=5) :\n",
    "    print(x)\n",
    "    \n",
    "printNum()"
   ]
  },
  {
   "cell_type": "markdown",
   "id": "cleared-cologne",
   "metadata": {},
   "source": [
    "## Dictionary "
   ]
  },
  {
   "cell_type": "code",
   "execution_count": null,
   "id": "desirable-surgeon",
   "metadata": {},
   "outputs": [],
   "source": [
    "code = {\n",
    "    \"name\" : \"Rafiq\",\n",
    "    \"class\" : \"BSCS\",\n",
    "    \"Semester\" : 5\n",
    "}\n",
    "\n",
    "print(code[\"name\"])\n",
    "print(code[\"class\"])\n",
    "print(code[\"Semester\"])"
   ]
  },
  {
   "cell_type": "code",
   "execution_count": null,
   "id": "reliable-unknown",
   "metadata": {},
   "outputs": [],
   "source": [
    "code[\"class\"]"
   ]
  },
  {
   "cell_type": "code",
   "execution_count": null,
   "id": "perfect-enough",
   "metadata": {},
   "outputs": [],
   "source": [
    "print(code[\"class\"])"
   ]
  },
  {
   "cell_type": "markdown",
   "id": "executed-content",
   "metadata": {},
   "source": [
    "## Lists "
   ]
  },
  {
   "cell_type": "code",
   "execution_count": null,
   "id": "golden-desire",
   "metadata": {},
   "outputs": [],
   "source": [
    "fruits = ['mango', 'banana', 'apple', 1, 2, 3, 4, 5]\n",
    "\n",
    "fruits"
   ]
  },
  {
   "cell_type": "code",
   "execution_count": null,
   "id": "cathedral-landscape",
   "metadata": {},
   "outputs": [],
   "source": [
    "# Loop through the Lists\n",
    "\n",
    "for x in fruits:\n",
    "    print(x)"
   ]
  },
  {
   "cell_type": "code",
   "execution_count": null,
   "id": "little-configuration",
   "metadata": {},
   "outputs": [],
   "source": [
    "# Changing Data of Lists using Indexes of Lists\n",
    "\n",
    "fruits[3] = \"strawberrys\"\n",
    "fruits"
   ]
  },
  {
   "cell_type": "code",
   "execution_count": null,
   "id": "operational-wagner",
   "metadata": {},
   "outputs": [],
   "source": [
    "# Appending Data into Lists\n",
    "\n",
    "fruits.append(\"pears\")\n",
    "fruits"
   ]
  },
  {
   "cell_type": "markdown",
   "id": "local-campaign",
   "metadata": {},
   "source": [
    "## Tuples "
   ]
  },
  {
   "cell_type": "code",
   "execution_count": null,
   "id": "important-garbage",
   "metadata": {},
   "outputs": [],
   "source": [
    "cars = ('toyota', 'honda', 'ferrari')\n",
    "\n",
    "cars"
   ]
  },
  {
   "cell_type": "code",
   "execution_count": null,
   "id": "medical-tender",
   "metadata": {},
   "outputs": [],
   "source": [
    "cars[1]"
   ]
  },
  {
   "cell_type": "code",
   "execution_count": null,
   "id": "behavioral-casting",
   "metadata": {},
   "outputs": [],
   "source": [
    "# Data of Tuples cannot be changed\n",
    "\n",
    "# cars[1] = 'civic'"
   ]
  },
  {
   "cell_type": "code",
   "execution_count": null,
   "id": "adaptive-voltage",
   "metadata": {},
   "outputs": [],
   "source": []
  }
 ],
 "metadata": {
  "kernelspec": {
   "display_name": "Python 3 (ipykernel)",
   "language": "python",
   "name": "python3"
  },
  "language_info": {
   "codemirror_mode": {
    "name": "ipython",
    "version": 3
   },
   "file_extension": ".py",
   "mimetype": "text/x-python",
   "name": "python",
   "nbconvert_exporter": "python",
   "pygments_lexer": "ipython3",
   "version": "3.9.7"
  }
 },
 "nbformat": 4,
 "nbformat_minor": 5
}
