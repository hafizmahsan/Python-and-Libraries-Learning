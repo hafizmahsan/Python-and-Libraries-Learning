{
 "cells": [
  {
   "cell_type": "markdown",
   "id": "earlier-committee",
   "metadata": {},
   "source": [
    "# Python Basics"
   ]
  },
  {
   "cell_type": "markdown",
   "id": "hydraulic-hebrew",
   "metadata": {},
   "source": [
    "## Output"
   ]
  },
  {
   "cell_type": "code",
   "execution_count": 9,
   "id": "institutional-clerk",
   "metadata": {},
   "outputs": [
    {
     "name": "stdout",
     "output_type": "stream",
     "text": [
      "Hello World\n",
      "Hi! Welcome to Python\n"
     ]
    }
   ],
   "source": [
    "print('Hello World')\n",
    "print('Hi! Welcome to Python')"
   ]
  },
  {
   "cell_type": "markdown",
   "id": "solid-paste",
   "metadata": {},
   "source": [
    "## Input "
   ]
  },
  {
   "cell_type": "code",
   "execution_count": 10,
   "id": "adult-algeria",
   "metadata": {},
   "outputs": [
    {
     "name": "stdout",
     "output_type": "stream",
     "text": [
      "Enter Something : Hafiz\n"
     ]
    },
    {
     "data": {
      "text/plain": [
       "'Hafiz'"
      ]
     },
     "execution_count": 10,
     "metadata": {},
     "output_type": "execute_result"
    }
   ],
   "source": [
    "input('Enter Something : ')"
   ]
  },
  {
   "cell_type": "code",
   "execution_count": 11,
   "id": "worldwide-dress",
   "metadata": {},
   "outputs": [
    {
     "name": "stdout",
     "output_type": "stream",
     "text": [
      "Enter your Name : Hafiz\n",
      "Hafiz  Welcome to Python\n"
     ]
    }
   ],
   "source": [
    "name = input('Enter your Name : ')\n",
    "print(name, ' Welcome to Python')"
   ]
  },
  {
   "cell_type": "markdown",
   "id": "medium-afternoon",
   "metadata": {},
   "source": [
    "## Operations "
   ]
  },
  {
   "cell_type": "code",
   "execution_count": 12,
   "id": "cutting-emperor",
   "metadata": {},
   "outputs": [
    {
     "name": "stdout",
     "output_type": "stream",
     "text": [
      "25\n",
      "-5\n",
      "150\n",
      "0.6666666666666666\n",
      "0\n",
      "1000000000000000\n",
      "10\n"
     ]
    }
   ],
   "source": [
    "x = 10\n",
    "y = 15\n",
    "\n",
    "print(x + y) # Add\n",
    "print(x - y) # Subtract\n",
    "print(x * y) # Multiply\n",
    "print(x / y) # Division\n",
    "print(x // y) # Integer Division\n",
    "print(x ** y) # Raise to Power\n",
    "print(x % y) # Remainder"
   ]
  },
  {
   "cell_type": "markdown",
   "id": "informal-greensboro",
   "metadata": {},
   "source": [
    "## String Functions "
   ]
  },
  {
   "cell_type": "code",
   "execution_count": 13,
   "id": "extra-nothing",
   "metadata": {},
   "outputs": [
    {
     "data": {
      "text/plain": [
       "5"
      ]
     },
     "execution_count": 13,
     "metadata": {},
     "output_type": "execute_result"
    }
   ],
   "source": [
    "len(name) # finding length of string"
   ]
  },
  {
   "cell_type": "code",
   "execution_count": 14,
   "id": "jewish-constitution",
   "metadata": {},
   "outputs": [
    {
     "name": "stdout",
     "output_type": "stream",
     "text": [
      "HAFIZ\n"
     ]
    }
   ],
   "source": [
    "print(name.upper()) # converting string to Upper case"
   ]
  },
  {
   "cell_type": "code",
   "execution_count": 15,
   "id": "built-toyota",
   "metadata": {},
   "outputs": [
    {
     "name": "stdout",
     "output_type": "stream",
     "text": [
      "Enter Something :     Hafiz\n",
      "Hafiz\n"
     ]
    }
   ],
   "source": [
    "something = input('Enter Something : ')\n",
    "print(something.strip()) # Deleting extra spaces from starting of variables"
   ]
  },
  {
   "cell_type": "code",
   "execution_count": 16,
   "id": "alone-barrier",
   "metadata": {},
   "outputs": [
    {
     "name": "stdout",
     "output_type": "stream",
     "text": [
      "Hafiz Mohammad AhsanHafiz Mohammad AhsanHafiz Mohammad Ahsan\n"
     ]
    }
   ],
   "source": [
    "name = 'Hafiz Mohammad Ahsan'\n",
    "\n",
    "print(name*3) # printing string number of times"
   ]
  },
  {
   "cell_type": "code",
   "execution_count": 17,
   "id": "polyphonic-booth",
   "metadata": {},
   "outputs": [
    {
     "name": "stdout",
     "output_type": "stream",
     "text": [
      "Hafiz Mohammad Ahsan\n"
     ]
    }
   ],
   "source": [
    "name1 = 'Hafiz '\n",
    "name2 = 'Mohammad '\n",
    "name3 = 'Ahsan'\n",
    "print(name1 + name2 + name3) # Concatenation of Strings"
   ]
  },
  {
   "cell_type": "code",
   "execution_count": 18,
   "id": "induced-courage",
   "metadata": {},
   "outputs": [
    {
     "name": "stdout",
     "output_type": "stream",
     "text": [
      "Enter first number : 5\n",
      "Enter second number : 5\n",
      "<class 'str'>\n",
      "<class 'str'>\n",
      "55\n"
     ]
    }
   ],
   "source": [
    "var1 = input('Enter first number : ')\n",
    "var2 = input('Enter second number : ')\n",
    "\n",
    "print(type(var1)) # printing type of variable var1\n",
    "print(type(var2)) # printing type of variable var2\n",
    "print(var1 + var2) # Concatenation of Strings"
   ]
  },
  {
   "cell_type": "markdown",
   "id": "competitive-chile",
   "metadata": {},
   "source": [
    "## Changing Data Types"
   ]
  },
  {
   "cell_type": "code",
   "execution_count": 19,
   "id": "located-reset",
   "metadata": {},
   "outputs": [
    {
     "name": "stdout",
     "output_type": "stream",
     "text": [
      "Enter first number : 5\n",
      "Enter second number : 5\n",
      "<class 'str'>\n",
      "<class 'str'>\n",
      "10\n",
      "<class 'str'>\n",
      "<class 'str'>\n"
     ]
    }
   ],
   "source": [
    "var1 = input('Enter first number : ')\n",
    "var2 = input('Enter second number : ')\n",
    "\n",
    "print(type(var1))\n",
    "print(type(var2))\n",
    "print(int(var1) + int(var2)) # Changing Data Type from String to Integer\n",
    "print(type(var1))\n",
    "print(type(var2))"
   ]
  },
  {
   "cell_type": "code",
   "execution_count": 20,
   "id": "trained-bonus",
   "metadata": {},
   "outputs": [
    {
     "name": "stdout",
     "output_type": "stream",
     "text": [
      "Enter first number : 5\n",
      "Enter second number : 5\n",
      "<class 'str'>\n",
      "<class 'str'>\n",
      "10\n",
      "<class 'int'>\n",
      "<class 'int'>\n"
     ]
    }
   ],
   "source": [
    "# Changing Data Type from String to Integer\n",
    "\n",
    "var1 = input('Enter first number : ')\n",
    "var2 = input('Enter second number : ')\n",
    "\n",
    "print(type(var1))\n",
    "print(type(var2))\n",
    "\n",
    "var1 = int(var1)\n",
    "var2 = int(var2)\n",
    "\n",
    "print(var1 + var2)\n",
    "\n",
    "print(type(var1))\n",
    "print(type(var2))"
   ]
  },
  {
   "cell_type": "code",
   "execution_count": 21,
   "id": "local-washer",
   "metadata": {},
   "outputs": [
    {
     "name": "stdout",
     "output_type": "stream",
     "text": [
      "1\n",
      "2\n"
     ]
    }
   ],
   "source": [
    "x = 1\n",
    "print(x)\n",
    "x = 2\n",
    "print(x)"
   ]
  },
  {
   "cell_type": "code",
   "execution_count": 22,
   "id": "parliamentary-college",
   "metadata": {},
   "outputs": [
    {
     "name": "stdout",
     "output_type": "stream",
     "text": [
      "1.5\n"
     ]
    }
   ],
   "source": [
    "# float Data Type\n",
    "\n",
    "fl = 1.5\n",
    "print(fl)"
   ]
  },
  {
   "cell_type": "code",
   "execution_count": 23,
   "id": "institutional-sunday",
   "metadata": {},
   "outputs": [
    {
     "name": "stdout",
     "output_type": "stream",
     "text": [
      "True\n"
     ]
    }
   ],
   "source": [
    "# Boolean Data Type\n",
    "\n",
    "loop = True\n",
    "print(loop)"
   ]
  },
  {
   "cell_type": "markdown",
   "id": "sunrise-miami",
   "metadata": {},
   "source": [
    "## Loops "
   ]
  },
  {
   "cell_type": "code",
   "execution_count": 24,
   "id": "copyrighted-shannon",
   "metadata": {},
   "outputs": [
    {
     "name": "stdout",
     "output_type": "stream",
     "text": [
      "0\n",
      "1\n",
      "2\n",
      "3\n",
      "4\n",
      "5\n",
      "6\n",
      "7\n",
      "8\n",
      "9\n"
     ]
    }
   ],
   "source": [
    "# For Loop\n",
    "\n",
    "for number in range(0, 10) :\n",
    "    print(number)"
   ]
  },
  {
   "cell_type": "code",
   "execution_count": 25,
   "id": "saved-equipment",
   "metadata": {},
   "outputs": [
    {
     "name": "stdout",
     "output_type": "stream",
     "text": [
      "0\n",
      "3\n",
      "6\n",
      "9\n"
     ]
    }
   ],
   "source": [
    "# For Loop with Steps\n",
    "\n",
    "for number in range(0, 10, 3) :\n",
    "    print(number)"
   ]
  },
  {
   "cell_type": "code",
   "execution_count": 26,
   "id": "extreme-continent",
   "metadata": {},
   "outputs": [
    {
     "name": "stdout",
     "output_type": "stream",
     "text": [
      "Enter Something : Hafiz\n",
      "Python\n",
      "Enter Something : stop\n"
     ]
    }
   ],
   "source": [
    "# While Loop\n",
    "\n",
    "loop = True\n",
    "while loop:\n",
    "    something = input('Enter Something : ')\n",
    "#     print('Python')\n",
    "    if something == 'stop':\n",
    "        break\n",
    "    else:\n",
    "        print('Python')"
   ]
  },
  {
   "cell_type": "markdown",
   "id": "portuguese-gentleman",
   "metadata": {},
   "source": [
    "## Conditionals "
   ]
  },
  {
   "cell_type": "code",
   "execution_count": 27,
   "id": "collect-miracle",
   "metadata": {},
   "outputs": [
    {
     "name": "stdout",
     "output_type": "stream",
     "text": [
      "Enter your Height : 2\n",
      "You are 2 metre tall\n"
     ]
    }
   ],
   "source": [
    "# Conditionals = If, Elif, and Else\n",
    "\n",
    "height = input(\"Enter your Height : \")\n",
    "\n",
    "if height == '1' :\n",
    "    print('You are 1 metre tall')\n",
    "elif height == '2' :\n",
    "    print('You are 2 metre tall')\n",
    "elif height == '3':\n",
    "    print('You are 3 metre tall')\n",
    "else :\n",
    "    print('You are tall')"
   ]
  },
  {
   "cell_type": "code",
   "execution_count": 28,
   "id": "acute-pizza",
   "metadata": {},
   "outputs": [
    {
     "name": "stdout",
     "output_type": "stream",
     "text": [
      "x != 2 and y != 3\n"
     ]
    }
   ],
   "source": [
    "# Nested Conditions\n",
    "\n",
    "x = 4\n",
    "y = 4\n",
    "\n",
    "if x == 2:\n",
    "    if y == 3:\n",
    "        print('x = 2 and y = 3')\n",
    "    else :\n",
    "        print('x = 2 and y != 3')\n",
    "else:\n",
    "    print('x != 2 and y != 3')"
   ]
  },
  {
   "cell_type": "code",
   "execution_count": 29,
   "id": "solid-ceremony",
   "metadata": {},
   "outputs": [
    {
     "name": "stdout",
     "output_type": "stream",
     "text": [
      "False\n"
     ]
    }
   ],
   "source": [
    "# And, Or, Not\n",
    "\n",
    "x = 3\n",
    "y = 5\n",
    "z = 3\n",
    "\n",
    "if x == y and y == z :\n",
    "    print('True')\n",
    "    \n",
    "if x == y or y == z :\n",
    "    print('Also True')\n",
    "    \n",
    "if not(x > y or y == z) :\n",
    "    print('False')"
   ]
  },
  {
   "cell_type": "markdown",
   "id": "short-moisture",
   "metadata": {},
   "source": [
    "## Functions "
   ]
  },
  {
   "cell_type": "code",
   "execution_count": 30,
   "id": "animated-hazard",
   "metadata": {},
   "outputs": [
    {
     "name": "stdout",
     "output_type": "stream",
     "text": [
      "5\n"
     ]
    }
   ],
   "source": [
    "x = 2\n",
    "y = 3\n",
    "\n",
    "def add(x, y) :\n",
    "    return x + y\n",
    "\n",
    "\n",
    "result = add(x, y)\n",
    "print(result)"
   ]
  },
  {
   "cell_type": "code",
   "execution_count": 31,
   "id": "speaking-jerusalem",
   "metadata": {},
   "outputs": [
    {
     "name": "stdout",
     "output_type": "stream",
     "text": [
      "5\n"
     ]
    }
   ],
   "source": [
    "def printNum(x=5) :\n",
    "    print(x)\n",
    "    \n",
    "printNum()"
   ]
  },
  {
   "cell_type": "markdown",
   "id": "cleared-cologne",
   "metadata": {},
   "source": [
    "## Dictionary "
   ]
  },
  {
   "cell_type": "code",
   "execution_count": 32,
   "id": "desirable-surgeon",
   "metadata": {},
   "outputs": [
    {
     "name": "stdout",
     "output_type": "stream",
     "text": [
      "Rafiq\n",
      "BSCS\n",
      "5\n"
     ]
    }
   ],
   "source": [
    "code = {\n",
    "    \"name\" : \"Rafiq\",\n",
    "    \"class\" : \"BSCS\",\n",
    "    \"Semester\" : 5\n",
    "}\n",
    "\n",
    "print(code[\"name\"])\n",
    "print(code[\"class\"])\n",
    "print(code[\"Semester\"])"
   ]
  },
  {
   "cell_type": "code",
   "execution_count": 33,
   "id": "reliable-unknown",
   "metadata": {},
   "outputs": [
    {
     "data": {
      "text/plain": [
       "'BSCS'"
      ]
     },
     "execution_count": 33,
     "metadata": {},
     "output_type": "execute_result"
    }
   ],
   "source": [
    "code[\"class\"]"
   ]
  },
  {
   "cell_type": "code",
   "execution_count": 34,
   "id": "perfect-enough",
   "metadata": {},
   "outputs": [
    {
     "name": "stdout",
     "output_type": "stream",
     "text": [
      "BSCS\n"
     ]
    }
   ],
   "source": [
    "print(code[\"class\"])"
   ]
  },
  {
   "cell_type": "markdown",
   "id": "executed-content",
   "metadata": {},
   "source": [
    "## Lists "
   ]
  },
  {
   "cell_type": "code",
   "execution_count": 35,
   "id": "golden-desire",
   "metadata": {},
   "outputs": [
    {
     "data": {
      "text/plain": [
       "['mango', 'banana', 'apple', 1, 2, 3, 4, 5]"
      ]
     },
     "execution_count": 35,
     "metadata": {},
     "output_type": "execute_result"
    }
   ],
   "source": [
    "fruits = ['mango', 'banana', 'apple', 1, 2, 3, 4, 5]\n",
    "\n",
    "fruits"
   ]
  },
  {
   "cell_type": "code",
   "execution_count": 36,
   "id": "cathedral-landscape",
   "metadata": {},
   "outputs": [
    {
     "name": "stdout",
     "output_type": "stream",
     "text": [
      "mango\n",
      "banana\n",
      "apple\n",
      "1\n",
      "2\n",
      "3\n",
      "4\n",
      "5\n"
     ]
    }
   ],
   "source": [
    "# Loop through the Lists\n",
    "\n",
    "for x in fruits:\n",
    "    print(x)"
   ]
  },
  {
   "cell_type": "code",
   "execution_count": 37,
   "id": "little-configuration",
   "metadata": {},
   "outputs": [
    {
     "data": {
      "text/plain": [
       "['mango', 'banana', 'apple', 'strawberrys', 2, 3, 4, 5]"
      ]
     },
     "execution_count": 37,
     "metadata": {},
     "output_type": "execute_result"
    }
   ],
   "source": [
    "# Changing Data of Lists using Indexes of Lists\n",
    "\n",
    "fruits[3] = \"strawberrys\"\n",
    "fruits"
   ]
  },
  {
   "cell_type": "code",
   "execution_count": 38,
   "id": "operational-wagner",
   "metadata": {},
   "outputs": [
    {
     "data": {
      "text/plain": [
       "['mango', 'banana', 'apple', 'strawberrys', 2, 3, 4, 5, 'pears']"
      ]
     },
     "execution_count": 38,
     "metadata": {},
     "output_type": "execute_result"
    }
   ],
   "source": [
    "# Appending Data into Lists\n",
    "\n",
    "fruits.append(\"pears\")\n",
    "fruits"
   ]
  },
  {
   "cell_type": "markdown",
   "id": "local-campaign",
   "metadata": {},
   "source": [
    "## Tuples "
   ]
  },
  {
   "cell_type": "code",
   "execution_count": 39,
   "id": "important-garbage",
   "metadata": {},
   "outputs": [
    {
     "data": {
      "text/plain": [
       "('toyota', 'honda', 'ferrari')"
      ]
     },
     "execution_count": 39,
     "metadata": {},
     "output_type": "execute_result"
    }
   ],
   "source": [
    "cars = ('toyota', 'honda', 'ferrari')\n",
    "\n",
    "cars"
   ]
  },
  {
   "cell_type": "code",
   "execution_count": 40,
   "id": "medical-tender",
   "metadata": {},
   "outputs": [
    {
     "data": {
      "text/plain": [
       "'honda'"
      ]
     },
     "execution_count": 40,
     "metadata": {},
     "output_type": "execute_result"
    }
   ],
   "source": [
    "cars[1]"
   ]
  },
  {
   "cell_type": "code",
   "execution_count": 41,
   "id": "behavioral-casting",
   "metadata": {},
   "outputs": [],
   "source": [
    "# Data of Tuples cannot be changed\n",
    "\n",
    "# cars[1] = 'civic'"
   ]
  },
  {
   "cell_type": "code",
   "execution_count": null,
   "id": "adaptive-voltage",
   "metadata": {},
   "outputs": [],
   "source": []
  }
 ],
 "metadata": {
  "kernelspec": {
   "display_name": "Python 3 (ipykernel)",
   "language": "python",
   "name": "python3"
  },
  "language_info": {
   "codemirror_mode": {
    "name": "ipython",
    "version": 3
   },
   "file_extension": ".py",
   "mimetype": "text/x-python",
   "name": "python",
   "nbconvert_exporter": "python",
   "pygments_lexer": "ipython3",
   "version": "3.9.7"
  }
 },
 "nbformat": 4,
 "nbformat_minor": 5
}
